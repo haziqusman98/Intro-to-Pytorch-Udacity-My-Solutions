{
  "nbformat": 4,
  "nbformat_minor": 0,
  "metadata": {
    "kernelspec": {
      "display_name": "Python [default]",
      "language": "python",
      "name": "python3"
    },
    "language_info": {
      "codemirror_mode": {
        "name": "ipython",
        "version": 3
      },
      "file_extension": ".py",
      "mimetype": "text/x-python",
      "name": "python",
      "nbconvert_exporter": "python",
      "pygments_lexer": "ipython3",
      "version": "3.6.4"
    },
    "colab": {
      "name": "Character_Level_RNN_Exercise.ipynb",
      "provenance": [],
      "toc_visible": true
    },
    "accelerator": "GPU"
  },
  "cells": [
    {
      "cell_type": "markdown",
      "metadata": {
        "id": "GaSCilPiusxv",
        "colab_type": "text"
      },
      "source": [
        "# Character-Level LSTM in PyTorch\n",
        "\n",
        "In this notebook, I'll construct a character-level LSTM with PyTorch. The network will train character by character on some text, then generate new text character by character. As an example, I will train on Anna Karenina. **This model will be able to generate new text based on the text from the book!**\n",
        "\n",
        "This network is based off of Andrej Karpathy's [post on RNNs](http://karpathy.github.io/2015/05/21/rnn-effectiveness/) and [implementation in Torch](https://github.com/karpathy/char-rnn). Below is the general architecture of the character-wise RNN.\n",
        "\n",
        "<img src=\"assets/charseq.jpeg\" width=\"500\">"
      ]
    },
    {
      "cell_type": "markdown",
      "metadata": {
        "id": "qGMWgEbWusxx",
        "colab_type": "text"
      },
      "source": [
        "First let's load in our required resources for data loading and model creation."
      ]
    },
    {
      "cell_type": "code",
      "metadata": {
        "id": "0Ra1A-YQusxy",
        "colab_type": "code",
        "colab": {}
      },
      "source": [
        "import numpy as np\n",
        "import torch\n",
        "from torch import nn\n",
        "import torch.nn.functional as F"
      ],
      "execution_count": 19,
      "outputs": []
    },
    {
      "cell_type": "markdown",
      "metadata": {
        "id": "JEecDs8Zusx3",
        "colab_type": "text"
      },
      "source": [
        "## Load in Data\n",
        "\n",
        "Then, we'll load the Anna Karenina text file and convert it into integers for our network to use. "
      ]
    },
    {
      "cell_type": "code",
      "metadata": {
        "id": "w5MONz-nusx3",
        "colab_type": "code",
        "colab": {}
      },
      "source": [
        "# open text file and read in data as `text`\n",
        "with open('anna.txt', 'r') as f:\n",
        "    text = f.read()"
      ],
      "execution_count": 20,
      "outputs": []
    },
    {
      "cell_type": "markdown",
      "metadata": {
        "id": "xOP10wnSusx8",
        "colab_type": "text"
      },
      "source": [
        "Let's check out the first 100 characters, make sure everything is peachy. According to the [American Book Review](http://americanbookreview.org/100bestlines.asp), this is the 6th best first line of a book ever."
      ]
    },
    {
      "cell_type": "code",
      "metadata": {
        "id": "fHsmC5XSusx9",
        "colab_type": "code",
        "colab": {
          "base_uri": "https://localhost:8080/",
          "height": 35
        },
        "outputId": "efbd1e09-b478-4d83-e9bc-0916ea2f3f3a"
      },
      "source": [
        "text[:100]"
      ],
      "execution_count": 21,
      "outputs": [
        {
          "output_type": "execute_result",
          "data": {
            "application/vnd.google.colaboratory.intrinsic+json": {
              "type": "string"
            },
            "text/plain": [
              "'Chapter 1\\n\\n\\nHappy families are all alike; every unhappy family is unhappy in its own\\nway.\\n\\nEverythin'"
            ]
          },
          "metadata": {
            "tags": []
          },
          "execution_count": 21
        }
      ]
    },
    {
      "cell_type": "markdown",
      "metadata": {
        "id": "ya4W5kD2usyD",
        "colab_type": "text"
      },
      "source": [
        "### Tokenization\n",
        "\n",
        "In the cells, below, I'm creating a couple **dictionaries** to convert the characters to and from integers. Encoding the characters as integers makes it easier to use as input in the network."
      ]
    },
    {
      "cell_type": "code",
      "metadata": {
        "id": "kFLYztQ_usyE",
        "colab_type": "code",
        "colab": {}
      },
      "source": [
        "# encode the text and map each character to an integer and vice versa\n",
        "\n",
        "# we create two dictionaries:\n",
        "# 1. int2char, which maps integers to characters\n",
        "# 2. char2int, which maps characters to unique integers\n",
        "chars = tuple(set(text))\n",
        "int2char = dict(enumerate(chars))\n",
        "char2int = {ch: ii for ii, ch in int2char.items()}\n",
        "\n",
        "# encode the text\n",
        "encoded = np.array([char2int[ch] for ch in text])"
      ],
      "execution_count": 22,
      "outputs": []
    },
    {
      "cell_type": "markdown",
      "metadata": {
        "id": "tuPDB_MBusyI",
        "colab_type": "text"
      },
      "source": [
        "And we can see those same characters from above, encoded as integers."
      ]
    },
    {
      "cell_type": "code",
      "metadata": {
        "id": "dpqLE-w4usyI",
        "colab_type": "code",
        "colab": {
          "base_uri": "https://localhost:8080/",
          "height": 118
        },
        "outputId": "dbf65ede-abbf-45b4-9865-0633f4629c45"
      },
      "source": [
        "encoded[:100]"
      ],
      "execution_count": 23,
      "outputs": [
        {
          "output_type": "execute_result",
          "data": {
            "text/plain": [
              "array([34, 28,  4, 77, 31, 19, 60, 55,  7, 48, 48, 48, 80,  4, 77, 77, 61,\n",
              "       55,  9,  4, 41, 76,  8, 76, 19, 47, 55,  4, 60, 19, 55,  4,  8,  8,\n",
              "       55,  4,  8, 76, 11, 19,  1, 55, 19, 53, 19, 60, 61, 55, 10, 36, 28,\n",
              "        4, 77, 77, 61, 55,  9,  4, 41, 76,  8, 61, 55, 76, 47, 55, 10, 36,\n",
              "       28,  4, 77, 77, 61, 55, 76, 36, 55, 76, 31, 47, 55, 62, 52, 36, 48,\n",
              "       52,  4, 61,  2, 48, 48, 35, 53, 19, 60, 61, 31, 28, 76, 36])"
            ]
          },
          "metadata": {
            "tags": []
          },
          "execution_count": 23
        }
      ]
    },
    {
      "cell_type": "markdown",
      "metadata": {
        "id": "zQlILuB7usyM",
        "colab_type": "text"
      },
      "source": [
        "## Pre-processing the data\n",
        "\n",
        "As you can see in our char-RNN image above, our LSTM expects an input that is **one-hot encoded** meaning that each character is converted into an integer (via our created dictionary) and *then* converted into a column vector where only it's corresponding integer index will have the value of 1 and the rest of the vector will be filled with 0's. Since we're one-hot encoding the data, let's make a function to do that!\n"
      ]
    },
    {
      "cell_type": "code",
      "metadata": {
        "id": "_3tphpYcusyN",
        "colab_type": "code",
        "colab": {}
      },
      "source": [
        "def one_hot_encode(arr, n_labels):\n",
        "    \n",
        "    # Initialize the the encoded array\n",
        "    one_hot = np.zeros((arr.size, n_labels), dtype=np.float32)\n",
        "    \n",
        "    # Fill the appropriate elements with ones\n",
        "    one_hot[np.arange(one_hot.shape[0]), arr.flatten()] = 1.\n",
        "    \n",
        "    # Finally reshape it to get back to the original array\n",
        "    one_hot = one_hot.reshape((*arr.shape, n_labels))\n",
        "    \n",
        "    return one_hot"
      ],
      "execution_count": 24,
      "outputs": []
    },
    {
      "cell_type": "code",
      "metadata": {
        "id": "HESZABGgusyQ",
        "colab_type": "code",
        "colab": {
          "base_uri": "https://localhost:8080/",
          "height": 67
        },
        "outputId": "d33f5588-9bd5-4d6b-d003-d009a52eeae3"
      },
      "source": [
        "# check that the function works as expected\n",
        "test_seq = np.array([[3, 5, 1]])\n",
        "one_hot = one_hot_encode(test_seq, 8)\n",
        "\n",
        "print(one_hot)"
      ],
      "execution_count": 25,
      "outputs": [
        {
          "output_type": "stream",
          "text": [
            "[[[0. 0. 0. 1. 0. 0. 0. 0.]\n",
            "  [0. 0. 0. 0. 0. 1. 0. 0.]\n",
            "  [0. 1. 0. 0. 0. 0. 0. 0.]]]\n"
          ],
          "name": "stdout"
        }
      ]
    },
    {
      "cell_type": "markdown",
      "metadata": {
        "id": "YH_Sm2JTusyT",
        "colab_type": "text"
      },
      "source": [
        "## Making training mini-batches\n",
        "\n",
        "\n",
        "To train on this data, we also want to create mini-batches for training. Remember that we want our batches to be multiple sequences of some desired number of sequence steps. Considering a simple example, our batches would look like this:\n",
        "\n",
        "<img src=\"assets/sequence_batching@1x.png\" width=500px>\n",
        "\n",
        "\n",
        "<br>\n",
        "\n",
        "In this example, we'll take the encoded characters (passed in as the `arr` parameter) and split them into multiple sequences, given by `batch_size`. Each of our sequences will be `seq_length` long.\n",
        "\n",
        "### Creating Batches\n",
        "\n",
        "**1. The first thing we need to do is discard some of the text so we only have completely full mini-batches. **\n",
        "\n",
        "Each batch contains $N \\times M$ characters, where $N$ is the batch size (the number of sequences in a batch) and $M$ is the seq_length or number of time steps in a sequence. Then, to get the total number of batches, $K$, that we can make from the array `arr`, you divide the length of `arr` by the number of characters per batch. Once you know the number of batches, you can get the total number of characters to keep from `arr`, $N * M * K$.\n",
        "\n",
        "**2. After that, we need to split `arr` into $N$ batches. ** \n",
        "\n",
        "You can do this using `arr.reshape(size)` where `size` is a tuple containing the dimensions sizes of the reshaped array. We know we want $N$ sequences in a batch, so let's make that the size of the first dimension. For the second dimension, you can use `-1` as a placeholder in the size, it'll fill up the array with the appropriate data for you. After this, you should have an array that is $N \\times (M * K)$.\n",
        "\n",
        "**3. Now that we have this array, we can iterate through it to get our mini-batches. **\n",
        "\n",
        "The idea is each batch is a $N \\times M$ window on the $N \\times (M * K)$ array. For each subsequent batch, the window moves over by `seq_length`. We also want to create both the input and target arrays. Remember that the targets are just the inputs shifted over by one character. The way I like to do this window is use `range` to take steps of size `n_steps` from $0$ to `arr.shape[1]`, the total number of tokens in each sequence. That way, the integers you get from `range` always point to the start of a batch, and each window is `seq_length` wide.\n",
        "\n",
        "> **TODO:** Write the code for creating batches in the function below. The exercises in this notebook _will not be easy_. I've provided a notebook with solutions alongside this notebook. If you get stuck, checkout the solutions. The most important thing is that you don't copy and paste the code into here, **type out the solution code yourself.**"
      ]
    },
    {
      "cell_type": "code",
      "metadata": {
        "id": "6j8H_24BusyT",
        "colab_type": "code",
        "colab": {}
      },
      "source": [
        "def get_batches(arr, batch_size, seq_length):\n",
        "    '''Create a generator that returns batches of size\n",
        "       batch_size x seq_length from arr.\n",
        "       \n",
        "       Arguments\n",
        "       ---------\n",
        "       arr: Array you want to make batches from\n",
        "       batch_size: Batch size, the number of sequences per batch\n",
        "       seq_length: Number of encoded chars in a sequence\n",
        "    '''\n",
        "    \n",
        "    ## TODO: Get the number of batches we can make\n",
        "    n_batches = len(arr)//(batch_size*seq_length)\n",
        "    \n",
        "    ## TODO: Keep only enough characters to make full batches\n",
        "    arr = arr[:n_batches * batch_size * seq_length]\n",
        "    \n",
        "    ## TODO: Reshape into batch_size rows\n",
        "    arr = arr.reshape(batch_size,-1)\n",
        "    \n",
        "    ## TODO: Iterate over the batches using a window of size seq_length\n",
        "    for n in range(0, arr.shape[1], seq_length):\n",
        "        # The features\n",
        "        x = arr[:,n:n+seq_length]\n",
        "        # The targets, shifted by one\n",
        "        y = np.zeros_like(x)\n",
        "        try:\n",
        "          y[:,:-1],y[:,-1] = x[:,1:], arr[:,n+seq_length]\n",
        "        except IndexError:\n",
        "          y[:,:-1],y[:,-1] = x[:,1:], arr[:,0]\n",
        "        yield x, y"
      ],
      "execution_count": 26,
      "outputs": []
    },
    {
      "cell_type": "markdown",
      "metadata": {
        "id": "iGWqqO4BusyZ",
        "colab_type": "text"
      },
      "source": [
        "### Test Your Implementation\n",
        "\n",
        "Now I'll make some data sets and we can check out what's going on as we batch data. Here, as an example, I'm going to use a batch size of 8 and 50 sequence steps."
      ]
    },
    {
      "cell_type": "code",
      "metadata": {
        "id": "UL41yWPWusya",
        "colab_type": "code",
        "colab": {}
      },
      "source": [
        "batches = get_batches(encoded, 8, 50)\n",
        "x, y = next(batches)"
      ],
      "execution_count": 27,
      "outputs": []
    },
    {
      "cell_type": "code",
      "metadata": {
        "id": "JSUBElsuusyh",
        "colab_type": "code",
        "colab": {
          "base_uri": "https://localhost:8080/",
          "height": 336
        },
        "outputId": "eca7fc5f-455b-46f3-913f-67731faf994f"
      },
      "source": [
        "# printing out the first 10 items in a sequence\n",
        "print('x\\n', x[:10, :10])\n",
        "print('\\ny\\n', y[:10, :10])"
      ],
      "execution_count": 28,
      "outputs": [
        {
          "output_type": "stream",
          "text": [
            "x\n",
            " [[34 28  4 77 31 19 60 55  7 48]\n",
            " [47 62 36 55 31 28  4 31 55  4]\n",
            " [19 36 27 55 62 60 55  4 55  9]\n",
            " [47 55 31 28 19 55 22 28 76 19]\n",
            " [55 47  4 52 55 28 19 60 55 31]\n",
            " [22 10 47 47 76 62 36 55  4 36]\n",
            " [55 45 36 36  4 55 28  4 27 55]\n",
            " [68  3  8 62 36 47 11 61  2 55]]\n",
            "\n",
            "y\n",
            " [[28  4 77 31 19 60 55  7 48 48]\n",
            " [62 36 55 31 28  4 31 55  4 31]\n",
            " [36 27 55 62 60 55  4 55  9 62]\n",
            " [55 31 28 19 55 22 28 76 19  9]\n",
            " [47  4 52 55 28 19 60 55 31 19]\n",
            " [10 47 47 76 62 36 55  4 36 27]\n",
            " [45 36 36  4 55 28  4 27 55 47]\n",
            " [ 3  8 62 36 47 11 61  2 55 74]]\n"
          ],
          "name": "stdout"
        }
      ]
    },
    {
      "cell_type": "markdown",
      "metadata": {
        "id": "S-yhiRbeusyk",
        "colab_type": "text"
      },
      "source": [
        "If you implemented `get_batches` correctly, the above output should look something like \n",
        "```\n",
        "x\n",
        " [[25  8 60 11 45 27 28 73  1  2]\n",
        " [17  7 20 73 45  8 60 45 73 60]\n",
        " [27 20 80 73  7 28 73 60 73 65]\n",
        " [17 73 45  8 27 73 66  8 46 27]\n",
        " [73 17 60 12 73  8 27 28 73 45]\n",
        " [66 64 17 17 46  7 20 73 60 20]\n",
        " [73 76 20 20 60 73  8 60 80 73]\n",
        " [47 35 43  7 20 17 24 50 37 73]]\n",
        "\n",
        "y\n",
        " [[ 8 60 11 45 27 28 73  1  2  2]\n",
        " [ 7 20 73 45  8 60 45 73 60 45]\n",
        " [20 80 73  7 28 73 60 73 65  7]\n",
        " [73 45  8 27 73 66  8 46 27 65]\n",
        " [17 60 12 73  8 27 28 73 45 27]\n",
        " [64 17 17 46  7 20 73 60 20 80]\n",
        " [76 20 20 60 73  8 60 80 73 17]\n",
        " [35 43  7 20 17 24 50 37 73 36]]\n",
        " ```\n",
        " although the exact numbers may be different. Check to make sure the data is shifted over one step for `y`."
      ]
    },
    {
      "cell_type": "markdown",
      "metadata": {
        "id": "cMguEp8susyk",
        "colab_type": "text"
      },
      "source": [
        "---\n",
        "## Defining the network with PyTorch\n",
        "\n",
        "Below is where you'll define the network.\n",
        "\n",
        "<img src=\"assets/charRNN.png\" width=500px>\n",
        "\n",
        "Next, you'll use PyTorch to define the architecture of the network. We start by defining the layers and operations we want. Then, define a method for the forward pass. You've also been given a method for predicting characters."
      ]
    },
    {
      "cell_type": "markdown",
      "metadata": {
        "id": "ZxSN0Ao_usyl",
        "colab_type": "text"
      },
      "source": [
        "### Model Structure\n",
        "\n",
        "In `__init__` the suggested structure is as follows:\n",
        "* Create and store the necessary dictionaries (this has been done for you)\n",
        "* Define an LSTM layer that takes as params: an input size (the number of characters), a hidden layer size `n_hidden`, a number of layers `n_layers`, a dropout probability `drop_prob`, and a batch_first boolean (True, since we are batching)\n",
        "* Define a dropout layer with `drop_prob`\n",
        "* Define a fully-connected layer with params: input size `n_hidden` and output size (the number of characters)\n",
        "* Finally, initialize the weights (again, this has been given)\n",
        "\n",
        "Note that some parameters have been named and given in the `__init__` function, and we use them and store them by doing something like `self.drop_prob = drop_prob`."
      ]
    },
    {
      "cell_type": "markdown",
      "metadata": {
        "id": "CEyjn6sDusyl",
        "colab_type": "text"
      },
      "source": [
        "---\n",
        "### LSTM Inputs/Outputs\n",
        "\n",
        "You can create a basic [LSTM layer](https://pytorch.org/docs/stable/nn.html#lstm) as follows\n",
        "\n",
        "```python\n",
        "self.lstm = nn.LSTM(input_size, n_hidden, n_layers, \n",
        "                            dropout=drop_prob, batch_first=True)\n",
        "```\n",
        "\n",
        "where `input_size` is the number of characters this cell expects to see as sequential input, and `n_hidden` is the number of units in the hidden layers in the cell. And we can add dropout by adding a dropout parameter with a specified probability; this will automatically add dropout to the inputs or outputs. Finally, in the `forward` function, we can stack up the LSTM cells into layers using `.view`. With this, you pass in a list of cells and it will send the output of one cell into the next cell.\n",
        "\n",
        "We also need to create an initial hidden state of all zeros. This is done like so\n",
        "\n",
        "```python\n",
        "self.init_hidden()\n",
        "```"
      ]
    },
    {
      "cell_type": "code",
      "metadata": {
        "id": "MhU7OPs0usym",
        "colab_type": "code",
        "colab": {
          "base_uri": "https://localhost:8080/",
          "height": 34
        },
        "outputId": "cf985c31-4891-43fc-b749-23c4697b3e40"
      },
      "source": [
        "# check if GPU is available\n",
        "train_on_gpu = torch.cuda.is_available()\n",
        "if(train_on_gpu):\n",
        "    print('Training on GPU!')\n",
        "else: \n",
        "    print('No GPU available, training on CPU; consider making n_epochs very small.')"
      ],
      "execution_count": 29,
      "outputs": [
        {
          "output_type": "stream",
          "text": [
            "Training on GPU!\n"
          ],
          "name": "stdout"
        }
      ]
    },
    {
      "cell_type": "code",
      "metadata": {
        "id": "Mak6JCNEusyo",
        "colab_type": "code",
        "colab": {}
      },
      "source": [
        "class CharRNN(nn.Module):\n",
        "    \n",
        "    def __init__(self, tokens, n_hidden=256, n_layers=2,\n",
        "                               drop_prob=0.5, lr=0.001):\n",
        "        super().__init__()\n",
        "        self.drop_prob = drop_prob\n",
        "        self.n_layers = n_layers\n",
        "        self.n_hidden = n_hidden\n",
        "        self.lr = lr\n",
        "        \n",
        "        # creating character dictionaries\n",
        "        self.chars = tokens\n",
        "        self.int2char = dict(enumerate(self.chars))\n",
        "        self.char2int = {ch: ii for ii, ch in self.int2char.items()}\n",
        "        \n",
        "        ## TODO: define the layers of the model\n",
        "        self.lstm = nn.LSTM(len(self.chars),n_hidden,n_layers,dropout=drop_prob,batch_first=True)\n",
        "        self.dropout = nn.Dropout(drop_prob)\n",
        "        self.fc = nn.Linear(n_hidden,len(self.chars))\n",
        "    \n",
        "    def forward(self, x, hidden):\n",
        "        ''' Forward pass through the network. \n",
        "            These inputs are x, and the hidden/cell state `hidden`. '''\n",
        "                \n",
        "        ## TODO: Get the outputs and the new hidden state from the lstm\n",
        "        output, hidden = self.lstm(x,hidden)\n",
        "        out = self.dropout(output)\n",
        "        out = out.reshape(-1,self.n_hidden)\n",
        "        out = self.fc(out)\n",
        "        \n",
        "        # return the final output and the hidden state\n",
        "        return out, hidden\n",
        "    \n",
        "    \n",
        "    def init_hidden(self, batch_size):\n",
        "        ''' Initializes hidden state '''\n",
        "        # Create two new tensors with sizes n_layers x batch_size x n_hidden,\n",
        "        # initialized to zero, for hidden state and cell state of LSTM\n",
        "        weight = next(self.parameters()).data\n",
        "        \n",
        "        if (train_on_gpu):\n",
        "            hidden = (weight.new(self.n_layers, batch_size, self.n_hidden).zero_().cuda(),\n",
        "                  weight.new(self.n_layers, batch_size, self.n_hidden).zero_().cuda())\n",
        "        else:\n",
        "            hidden = (weight.new(self.n_layers, batch_size, self.n_hidden).zero_(),\n",
        "                      weight.new(self.n_layers, batch_size, self.n_hidden).zero_())\n",
        "        \n",
        "        return hidden\n",
        "        "
      ],
      "execution_count": 37,
      "outputs": []
    },
    {
      "cell_type": "markdown",
      "metadata": {
        "id": "nopZoNbausys",
        "colab_type": "text"
      },
      "source": [
        "## Time to train\n",
        "\n",
        "The train function gives us the ability to set the number of epochs, the learning rate, and other parameters.\n",
        "\n",
        "Below we're using an Adam optimizer and cross entropy loss since we are looking at character class scores as output. We calculate the loss and perform backpropagation, as usual!\n",
        "\n",
        "A couple of details about training: \n",
        ">* Within the batch loop, we detach the hidden state from its history; this time setting it equal to a new *tuple* variable because an LSTM has a hidden state that is a tuple of the hidden and cell states.\n",
        "* We use [`clip_grad_norm_`](https://pytorch.org/docs/stable/_modules/torch/nn/utils/clip_grad.html) to help prevent exploding gradients."
      ]
    },
    {
      "cell_type": "code",
      "metadata": {
        "id": "RaJpzD6_usys",
        "colab_type": "code",
        "colab": {}
      },
      "source": [
        "def train(net, data, epochs=10, batch_size=10, seq_length=50, lr=0.001, clip=5, val_frac=0.1, print_every=10):\n",
        "    ''' Training a network \n",
        "    \n",
        "        Arguments\n",
        "        ---------\n",
        "        \n",
        "        net: CharRNN network\n",
        "        data: text data to train the network\n",
        "        epochs: Number of epochs to train\n",
        "        batch_size: Number of mini-sequences per mini-batch, aka batch size\n",
        "        seq_length: Number of character steps per mini-batch\n",
        "        lr: learning rate\n",
        "        clip: gradient clipping\n",
        "        val_frac: Fraction of data to hold out for validation\n",
        "        print_every: Number of steps for printing training and validation loss\n",
        "    \n",
        "    '''\n",
        "    net.train()\n",
        "    \n",
        "    opt = torch.optim.Adam(net.parameters(), lr=lr)\n",
        "    criterion = nn.CrossEntropyLoss()\n",
        "    \n",
        "    # create training and validation data\n",
        "    val_idx = int(len(data)*(1-val_frac))\n",
        "    data, val_data = data[:val_idx], data[val_idx:]\n",
        "    \n",
        "    if(train_on_gpu):\n",
        "        net.cuda()\n",
        "    \n",
        "    counter = 0\n",
        "    n_chars = len(net.chars)\n",
        "    for e in range(epochs):\n",
        "        # initialize hidden state\n",
        "        h = net.init_hidden(batch_size)\n",
        "        \n",
        "        for x, y in get_batches(data, batch_size, seq_length):\n",
        "            counter += 1\n",
        "            \n",
        "            # One-hot encode our data and make them Torch tensors\n",
        "            x = one_hot_encode(x, n_chars)\n",
        "            inputs, targets = torch.from_numpy(x), torch.from_numpy(y)\n",
        "            \n",
        "            if(train_on_gpu):\n",
        "                inputs, targets = inputs.cuda(), targets.cuda()\n",
        "\n",
        "            # Creating new variables for the hidden state, otherwise\n",
        "            # we'd backprop through the entire training history\n",
        "            h = tuple([each.data for each in h])\n",
        "\n",
        "            # zero accumulated gradients\n",
        "            net.zero_grad()\n",
        "            \n",
        "            # get the output from the model\n",
        "            output, h = net(inputs, h)\n",
        "            \n",
        "            # calculate the loss and perform backprop\n",
        "            loss = criterion(output, targets.view(batch_size*seq_length).long())\n",
        "            loss.backward()\n",
        "            # `clip_grad_norm` helps prevent the exploding gradient problem in RNNs / LSTMs.\n",
        "            nn.utils.clip_grad_norm_(net.parameters(), clip)\n",
        "            opt.step()\n",
        "            \n",
        "            # loss stats\n",
        "            if counter % print_every == 0:\n",
        "                # Get validation loss\n",
        "                val_h = net.init_hidden(batch_size)\n",
        "                val_losses = []\n",
        "                net.eval()\n",
        "                for x, y in get_batches(val_data, batch_size, seq_length):\n",
        "                    # One-hot encode our data and make them Torch tensors\n",
        "                    x = one_hot_encode(x, n_chars)\n",
        "                    x, y = torch.from_numpy(x), torch.from_numpy(y)\n",
        "                    \n",
        "                    # Creating new variables for the hidden state, otherwise\n",
        "                    # we'd backprop through the entire training history\n",
        "                    val_h = tuple([each.data for each in val_h])\n",
        "                    \n",
        "                    inputs, targets = x, y\n",
        "                    if(train_on_gpu):\n",
        "                        inputs, targets = inputs.cuda(), targets.cuda()\n",
        "\n",
        "                    output, val_h = net(inputs, val_h)\n",
        "                    val_loss = criterion(output, targets.view(batch_size*seq_length).long())\n",
        "                \n",
        "                    val_losses.append(val_loss.item())\n",
        "                \n",
        "                net.train() # reset to train mode after iterationg through validation data\n",
        "                \n",
        "                print(\"Epoch: {}/{}...\".format(e+1, epochs),\n",
        "                      \"Step: {}...\".format(counter),\n",
        "                      \"Loss: {:.4f}...\".format(loss.item()),\n",
        "                      \"Val Loss: {:.4f}\".format(np.mean(val_losses)))"
      ],
      "execution_count": 38,
      "outputs": []
    },
    {
      "cell_type": "markdown",
      "metadata": {
        "id": "Vg0Nspwnusyv",
        "colab_type": "text"
      },
      "source": [
        "## Instantiating the model\n",
        "\n",
        "Now we can actually train the network. First we'll create the network itself, with some given hyperparameters. Then, define the mini-batches sizes, and start training!"
      ]
    },
    {
      "cell_type": "code",
      "metadata": {
        "id": "Rr06yNSCusyv",
        "colab_type": "code",
        "colab": {
          "base_uri": "https://localhost:8080/",
          "height": 101
        },
        "outputId": "d5ce7d10-08f3-4807-bdb6-9c14b2f43781"
      },
      "source": [
        "## TODO: set your model hyperparameters\n",
        "# define and print the net\n",
        "n_hidden= 512\n",
        "n_layers=3\n",
        "\n",
        "net = CharRNN(chars, n_hidden, n_layers)\n",
        "print(net)"
      ],
      "execution_count": 39,
      "outputs": [
        {
          "output_type": "stream",
          "text": [
            "CharRNN(\n",
            "  (lstm): LSTM(83, 512, num_layers=3, batch_first=True, dropout=0.5)\n",
            "  (dropout): Dropout(p=0.5, inplace=False)\n",
            "  (fc): Linear(in_features=512, out_features=83, bias=True)\n",
            ")\n"
          ],
          "name": "stdout"
        }
      ]
    },
    {
      "cell_type": "markdown",
      "metadata": {
        "id": "53cCAQ_xusyy",
        "colab_type": "text"
      },
      "source": [
        "### Set your training hyperparameters!"
      ]
    },
    {
      "cell_type": "code",
      "metadata": {
        "scrolled": true,
        "id": "Zvpr__Itusyz",
        "colab_type": "code",
        "colab": {
          "base_uri": "https://localhost:8080/",
          "height": 1000
        },
        "outputId": "7d6853a6-d4c5-4510-e6ae-253918ccde33"
      },
      "source": [
        "batch_size = 128\n",
        "seq_length = 100\n",
        "n_epochs = 25\n",
        "\n",
        "# train the model\n",
        "train(net, encoded, epochs=n_epochs, batch_size=batch_size, seq_length=seq_length, lr=0.001, print_every=10)"
      ],
      "execution_count": 40,
      "outputs": [
        {
          "output_type": "stream",
          "text": [
            "Epoch: 1/25... Step: 10... Loss: 3.2168... Val Loss: 3.1353\n",
            "Epoch: 1/25... Step: 20... Loss: 3.1397... Val Loss: 3.1242\n",
            "Epoch: 1/25... Step: 30... Loss: 3.1351... Val Loss: 3.1222\n",
            "Epoch: 1/25... Step: 40... Loss: 3.1133... Val Loss: 3.1201\n",
            "Epoch: 1/25... Step: 50... Loss: 3.1394... Val Loss: 3.1192\n",
            "Epoch: 1/25... Step: 60... Loss: 3.1183... Val Loss: 3.1180\n",
            "Epoch: 1/25... Step: 70... Loss: 3.1100... Val Loss: 3.1188\n",
            "Epoch: 1/25... Step: 80... Loss: 3.1285... Val Loss: 3.1180\n",
            "Epoch: 1/25... Step: 90... Loss: 3.1293... Val Loss: 3.1168\n",
            "Epoch: 1/25... Step: 100... Loss: 3.1190... Val Loss: 3.1138\n",
            "Epoch: 1/25... Step: 110... Loss: 3.1137... Val Loss: 3.0990\n",
            "Epoch: 1/25... Step: 120... Loss: 3.1225... Val Loss: 3.0463\n",
            "Epoch: 1/25... Step: 130... Loss: 3.0061... Val Loss: 2.9664\n",
            "Epoch: 2/25... Step: 140... Loss: 2.9253... Val Loss: 2.9006\n",
            "Epoch: 2/25... Step: 150... Loss: 2.8637... Val Loss: 2.8332\n",
            "Epoch: 2/25... Step: 160... Loss: 2.7923... Val Loss: 2.7755\n",
            "Epoch: 2/25... Step: 170... Loss: 2.6980... Val Loss: 2.7165\n",
            "Epoch: 2/25... Step: 180... Loss: 2.6540... Val Loss: 2.6428\n",
            "Epoch: 2/25... Step: 190... Loss: 2.5852... Val Loss: 2.5755\n",
            "Epoch: 2/25... Step: 200... Loss: 2.5311... Val Loss: 2.5028\n",
            "Epoch: 2/25... Step: 210... Loss: 2.4696... Val Loss: 2.4389\n",
            "Epoch: 2/25... Step: 220... Loss: 2.4007... Val Loss: 2.3770\n",
            "Epoch: 2/25... Step: 230... Loss: 2.3736... Val Loss: 2.3442\n",
            "Epoch: 2/25... Step: 240... Loss: 2.3431... Val Loss: 2.3088\n",
            "Epoch: 2/25... Step: 250... Loss: 2.2710... Val Loss: 2.2801\n",
            "Epoch: 2/25... Step: 260... Loss: 2.2557... Val Loss: 2.2546\n",
            "Epoch: 2/25... Step: 270... Loss: 2.2487... Val Loss: 2.2267\n",
            "Epoch: 3/25... Step: 280... Loss: 2.2555... Val Loss: 2.2056\n",
            "Epoch: 3/25... Step: 290... Loss: 2.2148... Val Loss: 2.1809\n",
            "Epoch: 3/25... Step: 300... Loss: 2.1926... Val Loss: 2.1560\n",
            "Epoch: 3/25... Step: 310... Loss: 2.1735... Val Loss: 2.1395\n",
            "Epoch: 3/25... Step: 320... Loss: 2.1391... Val Loss: 2.1137\n",
            "Epoch: 3/25... Step: 330... Loss: 2.0970... Val Loss: 2.0933\n",
            "Epoch: 3/25... Step: 340... Loss: 2.1198... Val Loss: 2.0697\n",
            "Epoch: 3/25... Step: 350... Loss: 2.0938... Val Loss: 2.0480\n",
            "Epoch: 3/25... Step: 360... Loss: 2.0321... Val Loss: 2.0252\n",
            "Epoch: 3/25... Step: 370... Loss: 2.0528... Val Loss: 2.0080\n",
            "Epoch: 3/25... Step: 380... Loss: 2.0284... Val Loss: 1.9874\n",
            "Epoch: 3/25... Step: 390... Loss: 1.9931... Val Loss: 1.9738\n",
            "Epoch: 3/25... Step: 400... Loss: 1.9710... Val Loss: 1.9569\n",
            "Epoch: 3/25... Step: 410... Loss: 1.9830... Val Loss: 1.9360\n",
            "Epoch: 4/25... Step: 420... Loss: 1.9555... Val Loss: 1.9188\n",
            "Epoch: 4/25... Step: 430... Loss: 1.9492... Val Loss: 1.9042\n",
            "Epoch: 4/25... Step: 440... Loss: 1.9347... Val Loss: 1.8872\n",
            "Epoch: 4/25... Step: 450... Loss: 1.8728... Val Loss: 1.8715\n",
            "Epoch: 4/25... Step: 460... Loss: 1.8574... Val Loss: 1.8580\n",
            "Epoch: 4/25... Step: 470... Loss: 1.8885... Val Loss: 1.8481\n",
            "Epoch: 4/25... Step: 480... Loss: 1.8644... Val Loss: 1.8363\n",
            "Epoch: 4/25... Step: 490... Loss: 1.8728... Val Loss: 1.8204\n",
            "Epoch: 4/25... Step: 500... Loss: 1.8671... Val Loss: 1.8067\n",
            "Epoch: 4/25... Step: 510... Loss: 1.8387... Val Loss: 1.7941\n",
            "Epoch: 4/25... Step: 520... Loss: 1.8445... Val Loss: 1.7861\n",
            "Epoch: 4/25... Step: 530... Loss: 1.8177... Val Loss: 1.7782\n",
            "Epoch: 4/25... Step: 540... Loss: 1.7730... Val Loss: 1.7629\n",
            "Epoch: 4/25... Step: 550... Loss: 1.8163... Val Loss: 1.7503\n",
            "Epoch: 5/25... Step: 560... Loss: 1.7765... Val Loss: 1.7420\n",
            "Epoch: 5/25... Step: 570... Loss: 1.7592... Val Loss: 1.7315\n",
            "Epoch: 5/25... Step: 580... Loss: 1.7379... Val Loss: 1.7203\n",
            "Epoch: 5/25... Step: 590... Loss: 1.7431... Val Loss: 1.7098\n",
            "Epoch: 5/25... Step: 600... Loss: 1.7345... Val Loss: 1.7015\n",
            "Epoch: 5/25... Step: 610... Loss: 1.7263... Val Loss: 1.6954\n",
            "Epoch: 5/25... Step: 620... Loss: 1.7194... Val Loss: 1.6882\n",
            "Epoch: 5/25... Step: 630... Loss: 1.7322... Val Loss: 1.6782\n",
            "Epoch: 5/25... Step: 640... Loss: 1.6993... Val Loss: 1.6684\n",
            "Epoch: 5/25... Step: 650... Loss: 1.6856... Val Loss: 1.6622\n",
            "Epoch: 5/25... Step: 660... Loss: 1.6635... Val Loss: 1.6558\n",
            "Epoch: 5/25... Step: 670... Loss: 1.6879... Val Loss: 1.6477\n",
            "Epoch: 5/25... Step: 680... Loss: 1.6763... Val Loss: 1.6396\n",
            "Epoch: 5/25... Step: 690... Loss: 1.6541... Val Loss: 1.6308\n",
            "Epoch: 6/25... Step: 700... Loss: 1.6609... Val Loss: 1.6243\n",
            "Epoch: 6/25... Step: 710... Loss: 1.6505... Val Loss: 1.6168\n",
            "Epoch: 6/25... Step: 720... Loss: 1.6272... Val Loss: 1.6086\n",
            "Epoch: 6/25... Step: 730... Loss: 1.6438... Val Loss: 1.6029\n",
            "Epoch: 6/25... Step: 740... Loss: 1.6064... Val Loss: 1.6006\n",
            "Epoch: 6/25... Step: 750... Loss: 1.6026... Val Loss: 1.5911\n",
            "Epoch: 6/25... Step: 760... Loss: 1.6353... Val Loss: 1.5835\n",
            "Epoch: 6/25... Step: 770... Loss: 1.6177... Val Loss: 1.5815\n",
            "Epoch: 6/25... Step: 780... Loss: 1.5920... Val Loss: 1.5760\n",
            "Epoch: 6/25... Step: 790... Loss: 1.5790... Val Loss: 1.5687\n",
            "Epoch: 6/25... Step: 800... Loss: 1.6038... Val Loss: 1.5641\n",
            "Epoch: 6/25... Step: 810... Loss: 1.5789... Val Loss: 1.5595\n",
            "Epoch: 6/25... Step: 820... Loss: 1.5461... Val Loss: 1.5534\n",
            "Epoch: 6/25... Step: 830... Loss: 1.5901... Val Loss: 1.5496\n",
            "Epoch: 7/25... Step: 840... Loss: 1.5427... Val Loss: 1.5426\n",
            "Epoch: 7/25... Step: 850... Loss: 1.5580... Val Loss: 1.5365\n",
            "Epoch: 7/25... Step: 860... Loss: 1.5390... Val Loss: 1.5305\n",
            "Epoch: 7/25... Step: 870... Loss: 1.5536... Val Loss: 1.5245\n",
            "Epoch: 7/25... Step: 880... Loss: 1.5491... Val Loss: 1.5217\n",
            "Epoch: 7/25... Step: 890... Loss: 1.5532... Val Loss: 1.5158\n",
            "Epoch: 7/25... Step: 900... Loss: 1.5211... Val Loss: 1.5099\n",
            "Epoch: 7/25... Step: 910... Loss: 1.4991... Val Loss: 1.5113\n",
            "Epoch: 7/25... Step: 920... Loss: 1.5251... Val Loss: 1.5081\n",
            "Epoch: 7/25... Step: 930... Loss: 1.5144... Val Loss: 1.5003\n",
            "Epoch: 7/25... Step: 940... Loss: 1.5018... Val Loss: 1.4960\n",
            "Epoch: 7/25... Step: 950... Loss: 1.5289... Val Loss: 1.4922\n",
            "Epoch: 7/25... Step: 960... Loss: 1.5182... Val Loss: 1.4889\n",
            "Epoch: 7/25... Step: 970... Loss: 1.5240... Val Loss: 1.4874\n",
            "Epoch: 8/25... Step: 980... Loss: 1.4895... Val Loss: 1.4833\n",
            "Epoch: 8/25... Step: 990... Loss: 1.4811... Val Loss: 1.4774\n",
            "Epoch: 8/25... Step: 1000... Loss: 1.4900... Val Loss: 1.4729\n",
            "Epoch: 8/25... Step: 1010... Loss: 1.5244... Val Loss: 1.4687\n",
            "Epoch: 8/25... Step: 1020... Loss: 1.4907... Val Loss: 1.4672\n",
            "Epoch: 8/25... Step: 1030... Loss: 1.4787... Val Loss: 1.4621\n",
            "Epoch: 8/25... Step: 1040... Loss: 1.4828... Val Loss: 1.4634\n",
            "Epoch: 8/25... Step: 1050... Loss: 1.4672... Val Loss: 1.4582\n",
            "Epoch: 8/25... Step: 1060... Loss: 1.4707... Val Loss: 1.4542\n",
            "Epoch: 8/25... Step: 1070... Loss: 1.4705... Val Loss: 1.4506\n",
            "Epoch: 8/25... Step: 1080... Loss: 1.4702... Val Loss: 1.4465\n",
            "Epoch: 8/25... Step: 1090... Loss: 1.4572... Val Loss: 1.4451\n",
            "Epoch: 8/25... Step: 1100... Loss: 1.4431... Val Loss: 1.4417\n",
            "Epoch: 8/25... Step: 1110... Loss: 1.4440... Val Loss: 1.4390\n",
            "Epoch: 9/25... Step: 1120... Loss: 1.4481... Val Loss: 1.4351\n",
            "Epoch: 9/25... Step: 1130... Loss: 1.4461... Val Loss: 1.4313\n",
            "Epoch: 9/25... Step: 1140... Loss: 1.4506... Val Loss: 1.4283\n",
            "Epoch: 9/25... Step: 1150... Loss: 1.4734... Val Loss: 1.4292\n",
            "Epoch: 9/25... Step: 1160... Loss: 1.4192... Val Loss: 1.4246\n",
            "Epoch: 9/25... Step: 1170... Loss: 1.4285... Val Loss: 1.4207\n",
            "Epoch: 9/25... Step: 1180... Loss: 1.4334... Val Loss: 1.4199\n",
            "Epoch: 9/25... Step: 1190... Loss: 1.4655... Val Loss: 1.4168\n",
            "Epoch: 9/25... Step: 1200... Loss: 1.4103... Val Loss: 1.4153\n",
            "Epoch: 9/25... Step: 1210... Loss: 1.4184... Val Loss: 1.4132\n",
            "Epoch: 9/25... Step: 1220... Loss: 1.4158... Val Loss: 1.4113\n",
            "Epoch: 9/25... Step: 1230... Loss: 1.3888... Val Loss: 1.4073\n",
            "Epoch: 9/25... Step: 1240... Loss: 1.3968... Val Loss: 1.4065\n",
            "Epoch: 9/25... Step: 1250... Loss: 1.4138... Val Loss: 1.4057\n",
            "Epoch: 10/25... Step: 1260... Loss: 1.4073... Val Loss: 1.4024\n",
            "Epoch: 10/25... Step: 1270... Loss: 1.4123... Val Loss: 1.3995\n",
            "Epoch: 10/25... Step: 1280... Loss: 1.4166... Val Loss: 1.3932\n",
            "Epoch: 10/25... Step: 1290... Loss: 1.4104... Val Loss: 1.4001\n",
            "Epoch: 10/25... Step: 1300... Loss: 1.3924... Val Loss: 1.3921\n",
            "Epoch: 10/25... Step: 1310... Loss: 1.4067... Val Loss: 1.3910\n",
            "Epoch: 10/25... Step: 1320... Loss: 1.3714... Val Loss: 1.3917\n",
            "Epoch: 10/25... Step: 1330... Loss: 1.3746... Val Loss: 1.3876\n",
            "Epoch: 10/25... Step: 1340... Loss: 1.3671... Val Loss: 1.3856\n",
            "Epoch: 10/25... Step: 1350... Loss: 1.3599... Val Loss: 1.3850\n",
            "Epoch: 10/25... Step: 1360... Loss: 1.3633... Val Loss: 1.3819\n",
            "Epoch: 10/25... Step: 1370... Loss: 1.3570... Val Loss: 1.3794\n",
            "Epoch: 10/25... Step: 1380... Loss: 1.3940... Val Loss: 1.3782\n",
            "Epoch: 10/25... Step: 1390... Loss: 1.3983... Val Loss: 1.3765\n",
            "Epoch: 11/25... Step: 1400... Loss: 1.4044... Val Loss: 1.3757\n",
            "Epoch: 11/25... Step: 1410... Loss: 1.4181... Val Loss: 1.3726\n",
            "Epoch: 11/25... Step: 1420... Loss: 1.3996... Val Loss: 1.3689\n",
            "Epoch: 11/25... Step: 1430... Loss: 1.3618... Val Loss: 1.3721\n",
            "Epoch: 11/25... Step: 1440... Loss: 1.3936... Val Loss: 1.3662\n",
            "Epoch: 11/25... Step: 1450... Loss: 1.3218... Val Loss: 1.3686\n",
            "Epoch: 11/25... Step: 1460... Loss: 1.3488... Val Loss: 1.3679\n",
            "Epoch: 11/25... Step: 1470... Loss: 1.3459... Val Loss: 1.3634\n",
            "Epoch: 11/25... Step: 1480... Loss: 1.3645... Val Loss: 1.3621\n",
            "Epoch: 11/25... Step: 1490... Loss: 1.3506... Val Loss: 1.3614\n",
            "Epoch: 11/25... Step: 1500... Loss: 1.3428... Val Loss: 1.3608\n",
            "Epoch: 11/25... Step: 1510... Loss: 1.3292... Val Loss: 1.3567\n",
            "Epoch: 11/25... Step: 1520... Loss: 1.3579... Val Loss: 1.3552\n",
            "Epoch: 12/25... Step: 1530... Loss: 1.4184... Val Loss: 1.3556\n",
            "Epoch: 12/25... Step: 1540... Loss: 1.3634... Val Loss: 1.3547\n",
            "Epoch: 12/25... Step: 1550... Loss: 1.3629... Val Loss: 1.3535\n",
            "Epoch: 12/25... Step: 1560... Loss: 1.3750... Val Loss: 1.3498\n",
            "Epoch: 12/25... Step: 1570... Loss: 1.3244... Val Loss: 1.3526\n",
            "Epoch: 12/25... Step: 1580... Loss: 1.3194... Val Loss: 1.3507\n",
            "Epoch: 12/25... Step: 1590... Loss: 1.3130... Val Loss: 1.3498\n",
            "Epoch: 12/25... Step: 1600... Loss: 1.3381... Val Loss: 1.3488\n",
            "Epoch: 12/25... Step: 1610... Loss: 1.3225... Val Loss: 1.3465\n",
            "Epoch: 12/25... Step: 1620... Loss: 1.3091... Val Loss: 1.3446\n",
            "Epoch: 12/25... Step: 1630... Loss: 1.3419... Val Loss: 1.3448\n",
            "Epoch: 12/25... Step: 1640... Loss: 1.3155... Val Loss: 1.3443\n",
            "Epoch: 12/25... Step: 1650... Loss: 1.2982... Val Loss: 1.3420\n",
            "Epoch: 12/25... Step: 1660... Loss: 1.3431... Val Loss: 1.3409\n",
            "Epoch: 13/25... Step: 1670... Loss: 1.3239... Val Loss: 1.3399\n",
            "Epoch: 13/25... Step: 1680... Loss: 1.3325... Val Loss: 1.3377\n",
            "Epoch: 13/25... Step: 1690... Loss: 1.3134... Val Loss: 1.3358\n",
            "Epoch: 13/25... Step: 1700... Loss: 1.3108... Val Loss: 1.3326\n",
            "Epoch: 13/25... Step: 1710... Loss: 1.2972... Val Loss: 1.3382\n",
            "Epoch: 13/25... Step: 1720... Loss: 1.3048... Val Loss: 1.3362\n",
            "Epoch: 13/25... Step: 1730... Loss: 1.3490... Val Loss: 1.3342\n",
            "Epoch: 13/25... Step: 1740... Loss: 1.2998... Val Loss: 1.3326\n",
            "Epoch: 13/25... Step: 1750... Loss: 1.2730... Val Loss: 1.3313\n",
            "Epoch: 13/25... Step: 1760... Loss: 1.3116... Val Loss: 1.3290\n",
            "Epoch: 13/25... Step: 1770... Loss: 1.3311... Val Loss: 1.3295\n",
            "Epoch: 13/25... Step: 1780... Loss: 1.2955... Val Loss: 1.3305\n",
            "Epoch: 13/25... Step: 1790... Loss: 1.2880... Val Loss: 1.3287\n",
            "Epoch: 13/25... Step: 1800... Loss: 1.3113... Val Loss: 1.3251\n",
            "Epoch: 14/25... Step: 1810... Loss: 1.3156... Val Loss: 1.3280\n",
            "Epoch: 14/25... Step: 1820... Loss: 1.2902... Val Loss: 1.3249\n",
            "Epoch: 14/25... Step: 1830... Loss: 1.3130... Val Loss: 1.3214\n",
            "Epoch: 14/25... Step: 1840... Loss: 1.2675... Val Loss: 1.3202\n",
            "Epoch: 14/25... Step: 1850... Loss: 1.2447... Val Loss: 1.3203\n",
            "Epoch: 14/25... Step: 1860... Loss: 1.3072... Val Loss: 1.3225\n",
            "Epoch: 14/25... Step: 1870... Loss: 1.3112... Val Loss: 1.3214\n",
            "Epoch: 14/25... Step: 1880... Loss: 1.3021... Val Loss: 1.3198\n",
            "Epoch: 14/25... Step: 1890... Loss: 1.3276... Val Loss: 1.3184\n",
            "Epoch: 14/25... Step: 1900... Loss: 1.2983... Val Loss: 1.3189\n",
            "Epoch: 14/25... Step: 1910... Loss: 1.2983... Val Loss: 1.3164\n",
            "Epoch: 14/25... Step: 1920... Loss: 1.2960... Val Loss: 1.3187\n",
            "Epoch: 14/25... Step: 1930... Loss: 1.2647... Val Loss: 1.3164\n",
            "Epoch: 14/25... Step: 1940... Loss: 1.3044... Val Loss: 1.3116\n",
            "Epoch: 15/25... Step: 1950... Loss: 1.2859... Val Loss: 1.3184\n",
            "Epoch: 15/25... Step: 1960... Loss: 1.2854... Val Loss: 1.3116\n",
            "Epoch: 15/25... Step: 1970... Loss: 1.2826... Val Loss: 1.3124\n",
            "Epoch: 15/25... Step: 1980... Loss: 1.2741... Val Loss: 1.3105\n",
            "Epoch: 15/25... Step: 1990... Loss: 1.2666... Val Loss: 1.3152\n",
            "Epoch: 15/25... Step: 2000... Loss: 1.2547... Val Loss: 1.3108\n",
            "Epoch: 15/25... Step: 2010... Loss: 1.2787... Val Loss: 1.3104\n",
            "Epoch: 15/25... Step: 2020... Loss: 1.2904... Val Loss: 1.3096\n",
            "Epoch: 15/25... Step: 2030... Loss: 1.2694... Val Loss: 1.3090\n",
            "Epoch: 15/25... Step: 2040... Loss: 1.2734... Val Loss: 1.3069\n",
            "Epoch: 15/25... Step: 2050... Loss: 1.2682... Val Loss: 1.3067\n",
            "Epoch: 15/25... Step: 2060... Loss: 1.2782... Val Loss: 1.3070\n",
            "Epoch: 15/25... Step: 2070... Loss: 1.2852... Val Loss: 1.3056\n",
            "Epoch: 15/25... Step: 2080... Loss: 1.2792... Val Loss: 1.3035\n",
            "Epoch: 16/25... Step: 2090... Loss: 1.2827... Val Loss: 1.3068\n",
            "Epoch: 16/25... Step: 2100... Loss: 1.2577... Val Loss: 1.3021\n",
            "Epoch: 16/25... Step: 2110... Loss: 1.2485... Val Loss: 1.2987\n",
            "Epoch: 16/25... Step: 2120... Loss: 1.2687... Val Loss: 1.2978\n",
            "Epoch: 16/25... Step: 2130... Loss: 1.2547... Val Loss: 1.3011\n",
            "Epoch: 16/25... Step: 2140... Loss: 1.2633... Val Loss: 1.3015\n",
            "Epoch: 16/25... Step: 2150... Loss: 1.2772... Val Loss: 1.3000\n",
            "Epoch: 16/25... Step: 2160... Loss: 1.2567... Val Loss: 1.3006\n",
            "Epoch: 16/25... Step: 2170... Loss: 1.2558... Val Loss: 1.2975\n",
            "Epoch: 16/25... Step: 2180... Loss: 1.2509... Val Loss: 1.2957\n",
            "Epoch: 16/25... Step: 2190... Loss: 1.2750... Val Loss: 1.2980\n",
            "Epoch: 16/25... Step: 2200... Loss: 1.2560... Val Loss: 1.2984\n",
            "Epoch: 16/25... Step: 2210... Loss: 1.2219... Val Loss: 1.2965\n",
            "Epoch: 16/25... Step: 2220... Loss: 1.2635... Val Loss: 1.2936\n",
            "Epoch: 17/25... Step: 2230... Loss: 1.2390... Val Loss: 1.2967\n",
            "Epoch: 17/25... Step: 2240... Loss: 1.2443... Val Loss: 1.2951\n",
            "Epoch: 17/25... Step: 2250... Loss: 1.2351... Val Loss: 1.2940\n",
            "Epoch: 17/25... Step: 2260... Loss: 1.2452... Val Loss: 1.2927\n",
            "Epoch: 17/25... Step: 2270... Loss: 1.2573... Val Loss: 1.2938\n",
            "Epoch: 17/25... Step: 2280... Loss: 1.2586... Val Loss: 1.2911\n",
            "Epoch: 17/25... Step: 2290... Loss: 1.2597... Val Loss: 1.2928\n",
            "Epoch: 17/25... Step: 2300... Loss: 1.2189... Val Loss: 1.2931\n",
            "Epoch: 17/25... Step: 2310... Loss: 1.2353... Val Loss: 1.2941\n",
            "Epoch: 17/25... Step: 2320... Loss: 1.2388... Val Loss: 1.2902\n",
            "Epoch: 17/25... Step: 2330... Loss: 1.2381... Val Loss: 1.2915\n",
            "Epoch: 17/25... Step: 2340... Loss: 1.2636... Val Loss: 1.2921\n",
            "Epoch: 17/25... Step: 2350... Loss: 1.2516... Val Loss: 1.2896\n",
            "Epoch: 17/25... Step: 2360... Loss: 1.2641... Val Loss: 1.2870\n",
            "Epoch: 18/25... Step: 2370... Loss: 1.2375... Val Loss: 1.2934\n",
            "Epoch: 18/25... Step: 2380... Loss: 1.2406... Val Loss: 1.2875\n",
            "Epoch: 18/25... Step: 2390... Loss: 1.2449... Val Loss: 1.2883\n",
            "Epoch: 18/25... Step: 2400... Loss: 1.2616... Val Loss: 1.2856\n",
            "Epoch: 18/25... Step: 2410... Loss: 1.2539... Val Loss: 1.2859\n",
            "Epoch: 18/25... Step: 2420... Loss: 1.2395... Val Loss: 1.2858\n",
            "Epoch: 18/25... Step: 2430... Loss: 1.2415... Val Loss: 1.2889\n",
            "Epoch: 18/25... Step: 2440... Loss: 1.2300... Val Loss: 1.2869\n",
            "Epoch: 18/25... Step: 2450... Loss: 1.2240... Val Loss: 1.2869\n",
            "Epoch: 18/25... Step: 2460... Loss: 1.2372... Val Loss: 1.2849\n",
            "Epoch: 18/25... Step: 2470... Loss: 1.2332... Val Loss: 1.2848\n",
            "Epoch: 18/25... Step: 2480... Loss: 1.2286... Val Loss: 1.2858\n",
            "Epoch: 18/25... Step: 2490... Loss: 1.2178... Val Loss: 1.2851\n",
            "Epoch: 18/25... Step: 2500... Loss: 1.2142... Val Loss: 1.2812\n",
            "Epoch: 19/25... Step: 2510... Loss: 1.2300... Val Loss: 1.2861\n",
            "Epoch: 19/25... Step: 2520... Loss: 1.2376... Val Loss: 1.2844\n",
            "Epoch: 19/25... Step: 2530... Loss: 1.2400... Val Loss: 1.2839\n",
            "Epoch: 19/25... Step: 2540... Loss: 1.2549... Val Loss: 1.2799\n",
            "Epoch: 19/25... Step: 2550... Loss: 1.2148... Val Loss: 1.2820\n",
            "Epoch: 19/25... Step: 2560... Loss: 1.2332... Val Loss: 1.2793\n",
            "Epoch: 19/25... Step: 2570... Loss: 1.2185... Val Loss: 1.2825\n",
            "Epoch: 19/25... Step: 2580... Loss: 1.2620... Val Loss: 1.2805\n",
            "Epoch: 19/25... Step: 2590... Loss: 1.2170... Val Loss: 1.2809\n",
            "Epoch: 19/25... Step: 2600... Loss: 1.2132... Val Loss: 1.2792\n",
            "Epoch: 19/25... Step: 2610... Loss: 1.2104... Val Loss: 1.2807\n",
            "Epoch: 19/25... Step: 2620... Loss: 1.2034... Val Loss: 1.2811\n",
            "Epoch: 19/25... Step: 2630... Loss: 1.2161... Val Loss: 1.2791\n",
            "Epoch: 19/25... Step: 2640... Loss: 1.2334... Val Loss: 1.2753\n",
            "Epoch: 20/25... Step: 2650... Loss: 1.2238... Val Loss: 1.2769\n",
            "Epoch: 20/25... Step: 2660... Loss: 1.2333... Val Loss: 1.2785\n",
            "Epoch: 20/25... Step: 2670... Loss: 1.2312... Val Loss: 1.2793\n",
            "Epoch: 20/25... Step: 2680... Loss: 1.2286... Val Loss: 1.2766\n",
            "Epoch: 20/25... Step: 2690... Loss: 1.2165... Val Loss: 1.2769\n",
            "Epoch: 20/25... Step: 2700... Loss: 1.2339... Val Loss: 1.2727\n",
            "Epoch: 20/25... Step: 2710... Loss: 1.2055... Val Loss: 1.2775\n",
            "Epoch: 20/25... Step: 2720... Loss: 1.2067... Val Loss: 1.2753\n",
            "Epoch: 20/25... Step: 2730... Loss: 1.1955... Val Loss: 1.2768\n",
            "Epoch: 20/25... Step: 2740... Loss: 1.2007... Val Loss: 1.2770\n",
            "Epoch: 20/25... Step: 2750... Loss: 1.1976... Val Loss: 1.2760\n",
            "Epoch: 20/25... Step: 2760... Loss: 1.1969... Val Loss: 1.2763\n",
            "Epoch: 20/25... Step: 2770... Loss: 1.2319... Val Loss: 1.2735\n",
            "Epoch: 20/25... Step: 2780... Loss: 1.2487... Val Loss: 1.2729\n",
            "Epoch: 21/25... Step: 2790... Loss: 1.2420... Val Loss: 1.2727\n",
            "Epoch: 21/25... Step: 2800... Loss: 1.2605... Val Loss: 1.2730\n",
            "Epoch: 21/25... Step: 2810... Loss: 1.2507... Val Loss: 1.2737\n",
            "Epoch: 21/25... Step: 2820... Loss: 1.2093... Val Loss: 1.2710\n",
            "Epoch: 21/25... Step: 2830... Loss: 1.2272... Val Loss: 1.2713\n",
            "Epoch: 21/25... Step: 2840... Loss: 1.1718... Val Loss: 1.2684\n",
            "Epoch: 21/25... Step: 2850... Loss: 1.1924... Val Loss: 1.2703\n",
            "Epoch: 21/25... Step: 2860... Loss: 1.1785... Val Loss: 1.2681\n",
            "Epoch: 21/25... Step: 2870... Loss: 1.2163... Val Loss: 1.2747\n",
            "Epoch: 21/25... Step: 2880... Loss: 1.2002... Val Loss: 1.2727\n",
            "Epoch: 21/25... Step: 2890... Loss: 1.1959... Val Loss: 1.2723\n",
            "Epoch: 21/25... Step: 2900... Loss: 1.1844... Val Loss: 1.2720\n",
            "Epoch: 21/25... Step: 2910... Loss: 1.2082... Val Loss: 1.2706\n",
            "Epoch: 22/25... Step: 2920... Loss: 1.2785... Val Loss: 1.2715\n",
            "Epoch: 22/25... Step: 2930... Loss: 1.2226... Val Loss: 1.2693\n",
            "Epoch: 22/25... Step: 2940... Loss: 1.2258... Val Loss: 1.2696\n",
            "Epoch: 22/25... Step: 2950... Loss: 1.2354... Val Loss: 1.2726\n",
            "Epoch: 22/25... Step: 2960... Loss: 1.1879... Val Loss: 1.2705\n",
            "Epoch: 22/25... Step: 2970... Loss: 1.1791... Val Loss: 1.2664\n",
            "Epoch: 22/25... Step: 2980... Loss: 1.1761... Val Loss: 1.2664\n",
            "Epoch: 22/25... Step: 2990... Loss: 1.1949... Val Loss: 1.2675\n",
            "Epoch: 22/25... Step: 3000... Loss: 1.1873... Val Loss: 1.2664\n",
            "Epoch: 22/25... Step: 3010... Loss: 1.1818... Val Loss: 1.2686\n",
            "Epoch: 22/25... Step: 3020... Loss: 1.2110... Val Loss: 1.2681\n",
            "Epoch: 22/25... Step: 3030... Loss: 1.1966... Val Loss: 1.2684\n",
            "Epoch: 22/25... Step: 3040... Loss: 1.1740... Val Loss: 1.2677\n",
            "Epoch: 22/25... Step: 3050... Loss: 1.2295... Val Loss: 1.2673\n",
            "Epoch: 23/25... Step: 3060... Loss: 1.2027... Val Loss: 1.2665\n",
            "Epoch: 23/25... Step: 3070... Loss: 1.1931... Val Loss: 1.2667\n",
            "Epoch: 23/25... Step: 3080... Loss: 1.1956... Val Loss: 1.2658\n",
            "Epoch: 23/25... Step: 3090... Loss: 1.1855... Val Loss: 1.2670\n",
            "Epoch: 23/25... Step: 3100... Loss: 1.1747... Val Loss: 1.2692\n",
            "Epoch: 23/25... Step: 3110... Loss: 1.1826... Val Loss: 1.2663\n",
            "Epoch: 23/25... Step: 3120... Loss: 1.2113... Val Loss: 1.2626\n",
            "Epoch: 23/25... Step: 3130... Loss: 1.1885... Val Loss: 1.2626\n",
            "Epoch: 23/25... Step: 3140... Loss: 1.1434... Val Loss: 1.2647\n",
            "Epoch: 23/25... Step: 3150... Loss: 1.1830... Val Loss: 1.2642\n",
            "Epoch: 23/25... Step: 3160... Loss: 1.2095... Val Loss: 1.2631\n",
            "Epoch: 23/25... Step: 3170... Loss: 1.1755... Val Loss: 1.2644\n",
            "Epoch: 23/25... Step: 3180... Loss: 1.1770... Val Loss: 1.2631\n",
            "Epoch: 23/25... Step: 3190... Loss: 1.1902... Val Loss: 1.2602\n",
            "Epoch: 24/25... Step: 3200... Loss: 1.1935... Val Loss: 1.2711\n",
            "Epoch: 24/25... Step: 3210... Loss: 1.1744... Val Loss: 1.2671\n",
            "Epoch: 24/25... Step: 3220... Loss: 1.2032... Val Loss: 1.2624\n",
            "Epoch: 24/25... Step: 3230... Loss: 1.1529... Val Loss: 1.2628\n",
            "Epoch: 24/25... Step: 3240... Loss: 1.1461... Val Loss: 1.2634\n",
            "Epoch: 24/25... Step: 3250... Loss: 1.1928... Val Loss: 1.2631\n",
            "Epoch: 24/25... Step: 3260... Loss: 1.2024... Val Loss: 1.2614\n",
            "Epoch: 24/25... Step: 3270... Loss: 1.1982... Val Loss: 1.2609\n",
            "Epoch: 24/25... Step: 3280... Loss: 1.2041... Val Loss: 1.2616\n",
            "Epoch: 24/25... Step: 3290... Loss: 1.1918... Val Loss: 1.2607\n",
            "Epoch: 24/25... Step: 3300... Loss: 1.1867... Val Loss: 1.2619\n",
            "Epoch: 24/25... Step: 3310... Loss: 1.1833... Val Loss: 1.2639\n",
            "Epoch: 24/25... Step: 3320... Loss: 1.1518... Val Loss: 1.2637\n",
            "Epoch: 24/25... Step: 3330... Loss: 1.2066... Val Loss: 1.2612\n",
            "Epoch: 25/25... Step: 3340... Loss: 1.1859... Val Loss: 1.2609\n",
            "Epoch: 25/25... Step: 3350... Loss: 1.1866... Val Loss: 1.2611\n",
            "Epoch: 25/25... Step: 3360... Loss: 1.1750... Val Loss: 1.2580\n",
            "Epoch: 25/25... Step: 3370... Loss: 1.1762... Val Loss: 1.2593\n",
            "Epoch: 25/25... Step: 3380... Loss: 1.1717... Val Loss: 1.2643\n",
            "Epoch: 25/25... Step: 3390... Loss: 1.1576... Val Loss: 1.2612\n",
            "Epoch: 25/25... Step: 3400... Loss: 1.1728... Val Loss: 1.2589\n",
            "Epoch: 25/25... Step: 3410... Loss: 1.1888... Val Loss: 1.2581\n",
            "Epoch: 25/25... Step: 3420... Loss: 1.1614... Val Loss: 1.2576\n",
            "Epoch: 25/25... Step: 3430... Loss: 1.1765... Val Loss: 1.2590\n",
            "Epoch: 25/25... Step: 3440... Loss: 1.1622... Val Loss: 1.2562\n",
            "Epoch: 25/25... Step: 3450... Loss: 1.1720... Val Loss: 1.2597\n",
            "Epoch: 25/25... Step: 3460... Loss: 1.1962... Val Loss: 1.2600\n",
            "Epoch: 25/25... Step: 3470... Loss: 1.1821... Val Loss: 1.2564\n"
          ],
          "name": "stdout"
        }
      ]
    },
    {
      "cell_type": "markdown",
      "metadata": {
        "id": "AyOBVltNusy2",
        "colab_type": "text"
      },
      "source": [
        "## Getting the best model\n",
        "\n",
        "To set your hyperparameters to get the best performance, you'll want to watch the training and validation losses. If your training loss is much lower than the validation loss, you're overfitting. Increase regularization (more dropout) or use a smaller network. If the training and validation losses are close, you're underfitting so you can increase the size of the network."
      ]
    },
    {
      "cell_type": "markdown",
      "metadata": {
        "id": "RHMDaFHAusy2",
        "colab_type": "text"
      },
      "source": [
        "## Hyperparameters\n",
        "\n",
        "Here are the hyperparameters for the network.\n",
        "\n",
        "In defining the model:\n",
        "* `n_hidden` - The number of units in the hidden layers.\n",
        "* `n_layers` - Number of hidden LSTM layers to use.\n",
        "\n",
        "We assume that dropout probability and learning rate will be kept at the default, in this example.\n",
        "\n",
        "And in training:\n",
        "* `batch_size` - Number of sequences running through the network in one pass.\n",
        "* `seq_length` - Number of characters in the sequence the network is trained on. Larger is better typically, the network will learn more long range dependencies. But it takes longer to train. 100 is typically a good number here.\n",
        "* `lr` - Learning rate for training\n",
        "\n",
        "Here's some good advice from Andrej Karpathy on training the network. I'm going to copy it in here for your benefit, but also link to [where it originally came from](https://github.com/karpathy/char-rnn#tips-and-tricks).\n",
        "\n",
        "> ## Tips and Tricks\n",
        "\n",
        ">### Monitoring Validation Loss vs. Training Loss\n",
        ">If you're somewhat new to Machine Learning or Neural Networks it can take a bit of expertise to get good models. The most important quantity to keep track of is the difference between your training loss (printed during training) and the validation loss (printed once in a while when the RNN is run on the validation data (by default every 1000 iterations)). In particular:\n",
        "\n",
        "> - If your training loss is much lower than validation loss then this means the network might be **overfitting**. Solutions to this are to decrease your network size, or to increase dropout. For example you could try dropout of 0.5 and so on.\n",
        "> - If your training/validation loss are about equal then your model is **underfitting**. Increase the size of your model (either number of layers or the raw number of neurons per layer)\n",
        "\n",
        "> ### Approximate number of parameters\n",
        "\n",
        "> The two most important parameters that control the model are `n_hidden` and `n_layers`. I would advise that you always use `n_layers` of either 2/3. The `n_hidden` can be adjusted based on how much data you have. The two important quantities to keep track of here are:\n",
        "\n",
        "> - The number of parameters in your model. This is printed when you start training.\n",
        "> - The size of your dataset. 1MB file is approximately 1 million characters.\n",
        "\n",
        ">These two should be about the same order of magnitude. It's a little tricky to tell. Here are some examples:\n",
        "\n",
        "> - I have a 100MB dataset and I'm using the default parameter settings (which currently print 150K parameters). My data size is significantly larger (100 mil >> 0.15 mil), so I expect to heavily underfit. I am thinking I can comfortably afford to make `n_hidden` larger.\n",
        "> - I have a 10MB dataset and running a 10 million parameter model. I'm slightly nervous and I'm carefully monitoring my validation loss. If it's larger than my training loss then I may want to try to increase dropout a bit and see if that helps the validation loss.\n",
        "\n",
        "> ### Best models strategy\n",
        "\n",
        ">The winning strategy to obtaining very good models (if you have the compute time) is to always err on making the network larger (as large as you're willing to wait for it to compute) and then try different dropout values (between 0,1). Whatever model has the best validation performance (the loss, written in the checkpoint filename, low is good) is the one you should use in the end.\n",
        "\n",
        ">It is very common in deep learning to run many different models with many different hyperparameter settings, and in the end take whatever checkpoint gave the best validation performance.\n",
        "\n",
        ">By the way, the size of your training and validation splits are also parameters. Make sure you have a decent amount of data in your validation set or otherwise the validation performance will be noisy and not very informative."
      ]
    },
    {
      "cell_type": "markdown",
      "metadata": {
        "id": "q5QqANq9usy3",
        "colab_type": "text"
      },
      "source": [
        "## Checkpoint\n",
        "\n",
        "After training, we'll save the model so we can load it again later if we need too. Here I'm saving the parameters needed to create the same architecture, the hidden layer hyperparameters and the text characters."
      ]
    },
    {
      "cell_type": "code",
      "metadata": {
        "id": "MugJ1BXUusy3",
        "colab_type": "code",
        "colab": {}
      },
      "source": [
        "# change the name, for saving multiple files\n",
        "model_name = 'rnn_x_epoch.net'\n",
        "\n",
        "checkpoint = {'n_hidden': net.n_hidden,\n",
        "              'n_layers': net.n_layers,\n",
        "              'state_dict': net.state_dict(),\n",
        "              'tokens': net.chars}\n",
        "\n",
        "with open(model_name, 'wb') as f:\n",
        "    torch.save(checkpoint, f)"
      ],
      "execution_count": 41,
      "outputs": []
    },
    {
      "cell_type": "markdown",
      "metadata": {
        "id": "aL-WE4o1usy5",
        "colab_type": "text"
      },
      "source": [
        "---\n",
        "## Making Predictions\n",
        "\n",
        "Now that the model is trained, we'll want to sample from it and make predictions about next characters! To sample, we pass in a character and have the network predict the next character. Then we take that character, pass it back in, and get another predicted character. Just keep doing this and you'll generate a bunch of text!\n",
        "\n",
        "### A note on the `predict`  function\n",
        "\n",
        "The output of our RNN is from a fully-connected layer and it outputs a **distribution of next-character scores**.\n",
        "\n",
        "> To actually get the next character, we apply a softmax function, which gives us a *probability* distribution that we can then sample to predict the next character.\n",
        "\n",
        "### Top K sampling\n",
        "\n",
        "Our predictions come from a categorical probability distribution over all the possible characters. We can make the sample text and make it more reasonable to handle (with less variables) by only considering some $K$ most probable characters. This will prevent the network from giving us completely absurd characters while allowing it to introduce some noise and randomness into the sampled text. Read more about [topk, here](https://pytorch.org/docs/stable/torch.html#torch.topk).\n"
      ]
    },
    {
      "cell_type": "code",
      "metadata": {
        "id": "D8NK90Sausy6",
        "colab_type": "code",
        "colab": {}
      },
      "source": [
        "def predict(net, char, h=None, top_k=None):\n",
        "        ''' Given a character, predict the next character.\n",
        "            Returns the predicted character and the hidden state.\n",
        "        '''\n",
        "        \n",
        "        # tensor inputs\n",
        "        x = np.array([[net.char2int[char]]])\n",
        "        x = one_hot_encode(x, len(net.chars))\n",
        "        inputs = torch.from_numpy(x)\n",
        "        \n",
        "        if(train_on_gpu):\n",
        "            inputs = inputs.cuda()\n",
        "        \n",
        "        # detach hidden state from history\n",
        "        h = tuple([each.data for each in h])\n",
        "        # get the output of the model\n",
        "        out, h = net(inputs, h)\n",
        "\n",
        "        # get the character probabilities\n",
        "        p = F.softmax(out, dim=1).data\n",
        "        if(train_on_gpu):\n",
        "            p = p.cpu() # move to cpu\n",
        "        \n",
        "        # get top characters\n",
        "        if top_k is None:\n",
        "            top_ch = np.arange(len(net.chars))\n",
        "        else:\n",
        "            p, top_ch = p.topk(top_k)\n",
        "            top_ch = top_ch.numpy().squeeze()\n",
        "        \n",
        "        # select the likely next character with some element of randomness\n",
        "        p = p.numpy().squeeze()\n",
        "        char = np.random.choice(top_ch, p=p/p.sum())\n",
        "        \n",
        "        # return the encoded value of the predicted char and the hidden state\n",
        "        return net.int2char[char], h"
      ],
      "execution_count": 42,
      "outputs": []
    },
    {
      "cell_type": "markdown",
      "metadata": {
        "id": "ixmpYCoAusy9",
        "colab_type": "text"
      },
      "source": [
        "### Priming and generating text \n",
        "\n",
        "Typically you'll want to prime the network so you can build up a hidden state. Otherwise the network will start out generating characters at random. In general the first bunch of characters will be a little rough since it hasn't built up a long history of characters to predict from."
      ]
    },
    {
      "cell_type": "code",
      "metadata": {
        "id": "JQUfWR-ausy-",
        "colab_type": "code",
        "colab": {}
      },
      "source": [
        "def sample(net, size, prime='The', top_k=None):\n",
        "        \n",
        "    if(train_on_gpu):\n",
        "        net.cuda()\n",
        "    else:\n",
        "        net.cpu()\n",
        "    \n",
        "    net.eval() # eval mode\n",
        "    \n",
        "    # First off, run through the prime characters\n",
        "    chars = [ch for ch in prime]\n",
        "    h = net.init_hidden(1)\n",
        "    for ch in prime:\n",
        "        char, h = predict(net, ch, h, top_k=top_k)\n",
        "\n",
        "    chars.append(char)\n",
        "    \n",
        "    # Now pass in the previous character and get a new one\n",
        "    for ii in range(size):\n",
        "        char, h = predict(net, chars[-1], h, top_k=top_k)\n",
        "        chars.append(char)\n",
        "\n",
        "    return ''.join(chars)"
      ],
      "execution_count": 43,
      "outputs": []
    },
    {
      "cell_type": "code",
      "metadata": {
        "id": "wTpma0cruszA",
        "colab_type": "code",
        "colab": {
          "base_uri": "https://localhost:8080/",
          "height": 306
        },
        "outputId": "03483f44-7449-40b4-fa4e-7adc35589c51"
      },
      "source": [
        "print(sample(net, 1000, prime='Leonardo Di Caprio', top_k=3))"
      ],
      "execution_count": 57,
      "outputs": [
        {
          "output_type": "stream",
          "text": [
            "Leonardo Di Capriot, and the prince would not tell him and the child was always a possible sincerity to say.\n",
            "\n",
            "\"What do you take me? And\n",
            "that's all of all, and I will get out of the morning, and I didn't say that to be such a simple and something for the sick man are to see you. I did not know what I can't say that I can't be all as the position. I say, that I can be a conversation, but it would\n",
            "not be sure to be seen in the country way on anything.\"\n",
            "\n",
            "\"I'm naturally,\" said Stepan Arkadyevitch was silent. \"I hear the\n",
            "point of all the same, that's to be taken, but to be as a carriage, and so there's no offer that morning to be sure,\" he said.\n",
            "\n",
            "\"Well, that's the same as that is,\" she said, smiling, \"but I was all at that strange.\"\n",
            "\n",
            "\"Well, anyway, the significance of the same\n",
            "thoutance is a serious and some servant and to be\n",
            "anything in that people whom he has been standing at the moment when I was a simple and town that hose to\n",
            "be disconcerted and\n",
            "standing in the same, and I want to see him as I want to see \n"
          ],
          "name": "stdout"
        }
      ]
    },
    {
      "cell_type": "markdown",
      "metadata": {
        "id": "965SMDDTuszE",
        "colab_type": "text"
      },
      "source": [
        "## Loading a checkpoint"
      ]
    },
    {
      "cell_type": "code",
      "metadata": {
        "id": "HdXqayHPuszE",
        "colab_type": "code",
        "colab": {
          "base_uri": "https://localhost:8080/",
          "height": 34
        },
        "outputId": "3ada9512-795f-40fa-e661-6290d061e4d8"
      },
      "source": [
        "# Here we have loaded in a model that trained over 20 epochs `rnn_20_epoch.net`\n",
        "with open('rnn_x_epoch.net', 'rb') as f:\n",
        "    checkpoint = torch.load(f)\n",
        "    \n",
        "loaded = CharRNN(checkpoint['tokens'], n_hidden=checkpoint['n_hidden'], n_layers=checkpoint['n_layers'])\n",
        "loaded.load_state_dict(checkpoint['state_dict'])"
      ],
      "execution_count": 45,
      "outputs": [
        {
          "output_type": "execute_result",
          "data": {
            "text/plain": [
              "<All keys matched successfully>"
            ]
          },
          "metadata": {
            "tags": []
          },
          "execution_count": 45
        }
      ]
    },
    {
      "cell_type": "code",
      "metadata": {
        "id": "5MmKdw0duszH",
        "colab_type": "code",
        "colab": {
          "base_uri": "https://localhost:8080/",
          "height": 608
        },
        "outputId": "552c9081-fa07-47b8-cf2f-391564bc11bb"
      },
      "source": [
        "# Sample using a loaded model\n",
        "print(sample(loaded, 2000, top_k=5, prime=\"Quentin Tarantino\"))"
      ],
      "execution_count": 58,
      "outputs": [
        {
          "output_type": "stream",
          "text": [
            "Quentin Tarantino\n",
            "Ivenovitch. I will be all to see him. And this\n",
            "is in an one of the position, but I had a\n",
            "great princess. What is so much,\" said Vronsky shouted. \"I can't use the\n",
            "same position, but I have not a chrair at leading that. And he cares to speak to her, and will talk of them, I am very glad\n",
            "all her and made a\n",
            "little, and wanting to\n",
            "gave him a consurtation of the princess.\"\n",
            "\n",
            "\"What do you take her stare!\" he said, and she saw the district time, and with\n",
            "timid seass of his head was a complete satisfaction with the same patched arms of the sick-passions of the doctor's, he heard at the same time. He was talking of the middles of his set of a man against his white servants in that marshal of his face and an effort in the point, as it were, taking in the princess and his brother in the forest with which Alexey Alexandrovitch started and standing in that story of the doctor's\n",
            "attenthing as the position. The\n",
            "discovery shading into the conversation when he would not be so alone. The court had to do,\" said Levin felt a long in such careers to be saying.\n",
            "\n",
            "\"Yes too much,\" she said\n",
            "at a filling sudden trathed, what she took\n",
            "off the people\n",
            "were stopping to be sure to go to his\n",
            "bottle of the paths, and try to see her\n",
            "after his work at the mushroom with him.\n",
            "\n",
            "\"Your husband, it's a little. What's the memory of any man when I can, it is the forest. Well, who can't say to him!\" he said, walking on his back\n",
            "into the setsion of the second. The stone was satisfied in the carriage\n",
            "to the mother, at a forgiveness and attaching and\n",
            "setied in the fact. She\n",
            "had said anything with his words.\n",
            "\n",
            "Alexey Alexandrovitch was so falling at the tears of tears with which it was always feeling on a precist of happiness. She was all towards his brother to be telling him, but that it is silent.\n",
            "\n",
            "\"Aloxe,\" he said, looking at Levin, with her shoulders from\n",
            "the cold. And\n",
            "he saw his\n",
            "head, she had not talked in his successful attention to his work. She finished what she had been frightened\n",
            "the service, but that he we\n"
          ],
          "name": "stdout"
        }
      ]
    },
    {
      "cell_type": "code",
      "metadata": {
        "id": "lh2-TPaxuszK",
        "colab_type": "code",
        "colab": {}
      },
      "source": [
        ""
      ],
      "execution_count": null,
      "outputs": []
    }
  ]
}